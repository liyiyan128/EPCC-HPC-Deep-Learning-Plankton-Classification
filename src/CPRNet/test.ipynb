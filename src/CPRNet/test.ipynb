{
 "cells": [
  {
   "cell_type": "code",
   "execution_count": null,
   "metadata": {},
   "outputs": [],
   "source": [
    "import torch\n",
    "import torch.nn as nn\n",
    "import torch.nn.functional as F\n",
    "from torch.optim import SGD\n",
    "from torchvision import transforms, datasets\n",
    "from torchvision.utils import make_grid\n",
    "\n",
    "from ignite.engine import Events, create_supervised_trainer, create_supervised_evaluator\n",
    "from ignite.metrics import Accuracy, Loss, TopKCategoricalAccuracy\n",
    "from ignite.handlers import EarlyStopping, TerminateOnNan, ModelCheckpoint, Timer\n",
    "\n",
    "import numpy as np\n",
    "import matplotlib.pyplot as plt\n",
    "import os\n",
    "from tqdm import tqdm"
   ]
  },
  {
   "cell_type": "code",
   "execution_count": null,
   "metadata": {},
   "outputs": [],
   "source": [
    "# Transform images to tensors and then normalise.\n",
    "# Input normalised as mini-batches of 3-chanel RGB images of shape (3 x H x W),\n",
    "# where H and W are expected to be at least 224.\n",
    "# Images have to be loaded into a range of [0, 1] and\n",
    "# normalised using mean=[0.485, 0.456, 0.406] and std=[0.229, 0.224, 0.225].\n",
    "data_transforms = {\n",
    "    'train': transforms.Compose([\n",
    "        transforms.ToTensor(),\n",
    "        transforms.Normalize([0.485, 0.456, 0.406], [0.229, 0.224, 0.225])\n",
    "    ]),\n",
    "    'valid': transforms.Compose([\n",
    "        transforms.ToTensor(),\n",
    "        transforms.Normalize([0.485, 0.456, 0.406], [0.229, 0.224, 0.225])\n",
    "    ]),\n",
    "    'test': transforms.Compose([\n",
    "        transforms.ToTensor(),\n",
    "        transforms.Normalize([0.485, 0.456, 0.406], [0.229, 0.224, 0.225])\n",
    "    ])\n",
    "}\n",
    "\n",
    "data_loc = '/work/m23ss/m23ss/liyiyan/plankton/CPRNet/data/'\n",
    "\n",
    "zoo_datasets = {x: datasets.ImageFolder(os.path.join(data_loc, x), data_transforms[x])\n",
    "                for x in ['train', 'valid']}  # ,'test']}\n",
    "dataloaders = {x: torch.utils.data.DataLoader(zoo_datasets[x], batch_size=24,\n",
    "                                              shuffle=True, num_workers=4)\n",
    "               for x in ['train', 'valid']}  # , 'test']}\n",
    "\n",
    "dataset_sizes = {x: len(zoo_datasets[x]) for x in ['train', 'valid']}  # , 'test']}\n",
    "class_names = zoo_datasets['train'].classes\n",
    "device = torch.device(\"cuda\" if torch.cuda.is_available() else \"cpu\")"
   ]
  },
  {
   "cell_type": "code",
   "execution_count": null,
   "metadata": {},
   "outputs": [],
   "source": []
  }
 ],
 "metadata": {
  "language_info": {
   "name": "python"
  },
  "orig_nbformat": 4
 },
 "nbformat": 4,
 "nbformat_minor": 2
}
